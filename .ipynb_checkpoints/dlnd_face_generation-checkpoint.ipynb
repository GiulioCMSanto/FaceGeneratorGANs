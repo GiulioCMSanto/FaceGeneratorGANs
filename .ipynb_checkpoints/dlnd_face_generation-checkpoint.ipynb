{
 "cells": [
  {
   "cell_type": "markdown",
   "metadata": {},
   "source": [
    "### Student: Giulio Cesare M. Santo"
   ]
  },
  {
   "cell_type": "markdown",
   "metadata": {},
   "source": [
    "# Face Generation\n",
    "\n",
    "In this project, you'll define and train a DCGAN on a dataset of faces. Your goal is to get a generator network to generate *new* images of faces that look as realistic as possible!\n",
    "\n",
    "The project will be broken down into a series of tasks from **loading in data to defining and training adversarial networks**. At the end of the notebook, you'll be able to visualize the results of your trained Generator to see how it performs; your generated samples should look like fairly realistic faces with small amounts of noise.\n",
    "\n",
    "### Get the Data\n",
    "\n",
    "You'll be using the [CelebFaces Attributes Dataset (CelebA)](http://mmlab.ie.cuhk.edu.hk/projects/CelebA.html) to train your adversarial networks.\n",
    "\n",
    "This dataset is more complex than the number datasets (like MNIST or SVHN) you've been working with, and so, you should prepare to define deeper networks and train them for a longer time to get good results. It is suggested that you utilize a GPU for training.\n",
    "\n",
    "### Pre-processed Data\n",
    "\n",
    "Since the project's main focus is on building the GANs, we've done *some* of the pre-processing for you. Each of the CelebA images has been cropped to remove parts of the image that don't include a face, then resized down to 64x64x3 NumPy images. Some sample data is show below.\n",
    "\n",
    "<img src='assets/processed_face_data.png' width=60% />\n",
    "\n",
    "> If you are working locally, you can download this data [by clicking here](https://s3.amazonaws.com/video.udacity-data.com/topher/2018/November/5be7eb6f_processed-celeba-small/processed-celeba-small.zip)\n",
    "\n",
    "This is a zip file that you'll need to extract in the home directory of this notebook for further loading and processing. After extracting the data, you should be left with a directory of data `processed_celeba_small/`"
   ]
  },
  {
   "cell_type": "code",
   "execution_count": 1,
   "metadata": {},
   "outputs": [],
   "source": [
    "# can comment out after executing\n",
    "#!unzip processed_celeba_small.zip"
   ]
  },
  {
   "cell_type": "code",
   "execution_count": 1,
   "metadata": {},
   "outputs": [],
   "source": [
    "data_dir = 'processed_celeba_small/'\n",
    "\n",
    "\"\"\"\n",
    "DON'T MODIFY ANYTHING IN THIS CELL\n",
    "\"\"\"\n",
    "import pickle as pkl\n",
    "import matplotlib.pyplot as plt\n",
    "import numpy as np\n",
    "import problem_unittests as tests\n",
    "\n",
    "%matplotlib inline"
   ]
  },
  {
   "cell_type": "markdown",
   "metadata": {},
   "source": [
    "## Visualize the CelebA Data\n",
    "\n",
    "The [CelebA](http://mmlab.ie.cuhk.edu.hk/projects/CelebA.html) dataset contains over 200,000 celebrity images with annotations. Since you're going to be generating faces, you won't need the annotations, you'll only need the images. Note that these are color images with [3 color channels (RGB)](https://en.wikipedia.org/wiki/Channel_(digital_image)#RGB_Images) each.\n",
    "\n",
    "### Pre-process and Load the Data\n",
    "\n",
    "Since the project's main focus is on building the GANs, we've done *some* of the pre-processing for you. Each of the CelebA images has been cropped to remove parts of the image that don't include a face, then resized down to 64x64x3 NumPy images. This *pre-processed* dataset is a smaller subset of the very large CelebA data.\n",
    "\n",
    "> There are a few other steps that you'll need to **transform** this data and create a **DataLoader**.\n",
    "\n",
    "#### Exercise: Complete the following `get_dataloader` function, such that it satisfies these requirements:\n",
    "\n",
    "* Your images should be square, Tensor images of size `image_size x image_size` in the x and y dimension.\n",
    "* Your function should return a DataLoader that shuffles and batches these Tensor images.\n",
    "\n",
    "#### ImageFolder\n",
    "\n",
    "To create a dataset given a directory of images, it's recommended that you use PyTorch's [ImageFolder](https://pytorch.org/docs/stable/torchvision/datasets.html#imagefolder) wrapper, with a root directory `processed_celeba_small/` and data transformation passed in."
   ]
  },
  {
   "cell_type": "code",
   "execution_count": 2,
   "metadata": {},
   "outputs": [],
   "source": [
    "# necessary imports\n",
    "import torch\n",
    "from torchvision import datasets\n",
    "from torchvision import transforms"
   ]
  },
  {
   "cell_type": "code",
   "execution_count": 3,
   "metadata": {},
   "outputs": [],
   "source": [
    "def get_dataloader(batch_size, image_size, data_dir='processed_celeba_small/'):\n",
    "    \"\"\"\n",
    "    Batch the neural network data using DataLoader\n",
    "    :param batch_size: The size of each batch; the number of images in a batch\n",
    "    :param img_size: The square size of the image data (x, y)\n",
    "    :param data_dir: Directory where image data is located\n",
    "    :return: DataLoader with batched data\n",
    "    \"\"\"\n",
    "    \n",
    "    # TODO: Implement function and return a dataloader\n",
    "    transformations = transforms.Compose([\n",
    "                              transforms.Resize(image_size),\n",
    "                              transforms.ToTensor()\n",
    "                            ])\n",
    "    data = datasets.ImageFolder(data_dir, transform=transformations)\n",
    "    dataloader = torch.utils.data.DataLoader(data, batch_size, shuffle=True)\n",
    "    \n",
    "    return dataloader"
   ]
  },
  {
   "cell_type": "markdown",
   "metadata": {},
   "source": [
    "## Create a DataLoader\n",
    "\n",
    "#### Exercise: Create a DataLoader `celeba_train_loader` with appropriate hyperparameters.\n",
    "\n",
    "Call the above function and create a dataloader to view images. \n",
    "* You can decide on any reasonable `batch_size` parameter\n",
    "* Your `image_size` **must be** `32`. Resizing the data to a smaller size will make for faster training, while still creating convincing images of faces!"
   ]
  },
  {
   "cell_type": "code",
   "execution_count": 4,
   "metadata": {},
   "outputs": [],
   "source": [
    "# Define function hyperparameters\n",
    "batch_size = 64\n",
    "img_size = 32\n",
    "\n",
    "\"\"\"\n",
    "DON'T MODIFY ANYTHING IN THIS CELL THAT IS BELOW THIS LINE\n",
    "\"\"\"\n",
    "# Call your function and get a dataloader\n",
    "celeba_train_loader = get_dataloader(batch_size, img_size)"
   ]
  },
  {
   "cell_type": "code",
   "execution_count": 5,
   "metadata": {},
   "outputs": [],
   "source": [
    "img_sample, _ = iter(celeba_train_loader).next()"
   ]
  },
  {
   "cell_type": "code",
   "execution_count": 6,
   "metadata": {},
   "outputs": [
    {
     "data": {
      "text/plain": [
       "torch.Size([64, 3, 32, 32])"
      ]
     },
     "execution_count": 6,
     "metadata": {},
     "output_type": "execute_result"
    }
   ],
   "source": [
    "img_sample.shape"
   ]
  },
  {
   "cell_type": "markdown",
   "metadata": {},
   "source": [
    "#### Some additional tests..."
   ]
  },
  {
   "cell_type": "code",
   "execution_count": 7,
   "metadata": {},
   "outputs": [],
   "source": [
    "assert img_sample.shape[2] == img_size\n",
    "assert img_sample.shape[3] == img_size\n",
    "assert img_sample.shape[0] == batch_size\n",
    "assert img_sample.min() == 0.\n",
    "assert img_sample.max() == 1."
   ]
  },
  {
   "cell_type": "markdown",
   "metadata": {},
   "source": [
    "Next, you can view some images! You should seen square images of somewhat-centered faces.\n",
    "\n",
    "Note: You'll need to convert the Tensor images into a NumPy type and transpose the dimensions to correctly display an image, suggested `imshow` code is below, but it may not be perfect."
   ]
  },
  {
   "cell_type": "code",
   "execution_count": 8,
   "metadata": {},
   "outputs": [
    {
     "data": {
      "image/png": "[encoded data removed]",
      "text/plain": [
       "<matplotlib.figure.Figure at 0x7fe727270a90>"
      ]
     },
     "metadata": {},
     "output_type": "display_data"
    }
   ],
   "source": [
    "# helper display function\n",
    "def imshow(img):\n",
    "    npimg = img.numpy()\n",
    "    plt.imshow(np.transpose(npimg, (1, 2, 0)))\n",
    "\n",
    "\"\"\"\n",
    "DON'T MODIFY ANYTHING IN THIS CELL THAT IS BELOW THIS LINE\n",
    "\"\"\"\n",
    "# obtain one batch of training images\n",
    "dataiter = iter(celeba_train_loader)\n",
    "images, _ = dataiter.next() # _ for no labels\n",
    "\n",
    "# plot the images in the batch, along with the corresponding labels\n",
    "fig = plt.figure(figsize=(20, 4))\n",
    "plot_size=20\n",
    "for idx in np.arange(plot_size):\n",
    "    ax = fig.add_subplot(2, plot_size/2, idx+1, xticks=[], yticks=[])\n",
    "    imshow(images[idx])"
   ]
  },
  {
   "cell_type": "markdown",
   "metadata": {},
   "source": [
    "#### Exercise: Pre-process your image data and scale it to a pixel range of -1 to 1\n",
    "\n",
    "You need to do a bit of pre-processing; you know that the output of a `tanh` activated generator will contain pixel values in a range from -1 to 1, and so, we need to rescale our training images to a range of -1 to 1. (Right now, they are in a range from 0-1.)"
   ]
  },
  {
   "cell_type": "code",
   "execution_count": 9,
   "metadata": {},
   "outputs": [],
   "source": [
    "# TODO: Complete the scale function\n",
    "def scale(x, feature_range=(-1, 1)):\n",
    "    ''' Scale takes in an image x and returns that image, scaled\n",
    "       with a feature_range of pixel values from -1 to 1. \n",
    "       This function assumes that the input x is already scaled from 0-1.'''\n",
    "    min, max = feature_range\n",
    "    return x*(max-min)+min"
   ]
  },
  {
   "cell_type": "code",
   "execution_count": 10,
   "metadata": {},
   "outputs": [
    {
     "name": "stdout",
     "output_type": "stream",
     "text": [
      "Min:  tensor(-0.9843)\n",
      "Max:  tensor(1.)\n"
     ]
    }
   ],
   "source": [
    "\"\"\"\n",
    "DON'T MODIFY ANYTHING IN THIS CELL THAT IS BELOW THIS LINE\n",
    "\"\"\"\n",
    "# check scaled range\n",
    "# should be close to -1 to 1\n",
    "img = images[0]\n",
    "scaled_img = scale(img)\n",
    "\n",
    "print('Min: ', scaled_img.min())\n",
    "print('Max: ', scaled_img.max())"
   ]
  },
  {
   "cell_type": "markdown",
   "metadata": {},
   "source": [
    "#### Some additional tests..."
   ]
  },
  {
   "cell_type": "code",
   "execution_count": 11,
   "metadata": {},
   "outputs": [],
   "source": [
    "assert scaled_img.min() < 0.\n",
    "assert scaled_img.min() >= -1.\n",
    "assert scaled_img.max() > 0.\n",
    "assert scaled_img.max() <= 1."
   ]
  },
  {
   "cell_type": "markdown",
   "metadata": {},
   "source": [
    "---\n",
    "# Define the Model\n",
    "\n",
    "A GAN is comprised of two adversarial networks, a discriminator and a generator.\n",
    "\n",
    "## Discriminator\n",
    "\n",
    "Your first task will be to define the discriminator. This is a convolutional classifier like you've built before, only without any maxpooling layers. To deal with this complex data, it's suggested you use a deep network with **normalization**. You are also allowed to create any helper functions that may be useful.\n",
    "\n",
    "#### Exercise: Complete the Discriminator class\n",
    "* The inputs to the discriminator are 32x32x3 tensor images\n",
    "* The output should be a single value that will indicate whether a given image is real or fake\n"
   ]
  },
  {
   "cell_type": "code",
   "execution_count": 12,
   "metadata": {},
   "outputs": [],
   "source": [
    "import torch.nn as nn\n",
    "import torch.nn.functional as F"
   ]
  },
  {
   "cell_type": "code",
   "execution_count": 13,
   "metadata": {},
   "outputs": [],
   "source": [
    "def conv(in_channels, out_channels, \n",
    "         kernel_size, stride=2, \n",
    "         padding=1, batch_norm=True):\n",
    "    \"\"\"Creates a convolutional layer, with optional batch normalization.\n",
    "    \"\"\"\n",
    "    layers = []\n",
    "    conv_layer = nn.Conv2d(in_channels, out_channels, \n",
    "                           kernel_size, stride, padding, bias=False)\n",
    "    \n",
    "    # append conv layer\n",
    "    layers.append(conv_layer)\n",
    "\n",
    "    if batch_norm:\n",
    "        # append batchnorm layer\n",
    "        layers.append(nn.BatchNorm2d(out_channels))\n",
    "     \n",
    "    # using Sequential container\n",
    "    return nn.Sequential(*layers)"
   ]
  },
  {
   "cell_type": "code",
   "execution_count": 14,
   "metadata": {},
   "outputs": [
    {
     "name": "stdout",
     "output_type": "stream",
     "text": [
      "Tests Passed\n"
     ]
    }
   ],
   "source": [
    "class Discriminator(nn.Module):\n",
    "\n",
    "    def __init__(self, conv_dim):\n",
    "        \"\"\"\n",
    "        Initialize the Discriminator Module\n",
    "        :param conv_dim: The depth of the first convolutional layer\n",
    "        \"\"\"\n",
    "        super(Discriminator, self).__init__()\n",
    "\n",
    "        self.conv_dim = conv_dim\n",
    "        \n",
    "        #32x32 -> 16x16\n",
    "        self.conv_1 = conv(in_channels=3, out_channels=conv_dim,\n",
    "                          kernel_size=4, stride=2, padding=1, batch_norm=False)\n",
    "        \n",
    "        #16x16 -> 8x8\n",
    "        self.conv_2 = conv(in_channels=conv_dim, out_channels=conv_dim*2,\n",
    "                          kernel_size=4, stride=2, padding=1, batch_norm=True)\n",
    "        \n",
    "        #8x8 -> 4x4\n",
    "        self.conv_3 = conv(in_channels=conv_dim*2, out_channels=conv_dim*4,\n",
    "                          kernel_size=4, stride=2, padding=1, batch_norm=True)\n",
    "        \n",
    "        #4x4 -> 2x2\n",
    "        self.conv_4 = conv(in_channels=conv_dim*4, out_channels=conv_dim*8,\n",
    "                          kernel_size=4, stride=2, padding=1, batch_norm=True)\n",
    "        \n",
    "        #Fully Connected Layer\n",
    "        self.linear = nn.Linear((conv_dim*8)*2*2, 1)\n",
    "\n",
    "    def forward(self, X):\n",
    "        \"\"\"\n",
    "        Forward propagation of the neural network\n",
    "        :param x: The input to the neural network     \n",
    "        :return: Discriminator logits; the output of the neural network\n",
    "        \"\"\"\n",
    "        \n",
    "        #Convolutional Layers\n",
    "        y_pred = F.leaky_relu(self.conv_1(X), 0.2)\n",
    "        y_pred = F.leaky_relu(self.conv_2(y_pred), 0.2)\n",
    "        y_pred = F.leaky_relu(self.conv_3(y_pred), 0.2)\n",
    "        y_pred = F.leaky_relu(self.conv_4(y_pred), 0.2)\n",
    "        \n",
    "        #Fully Connected Layer\n",
    "        y_pred = y_pred.view(-1, (self.conv_dim*8)*2*2)\n",
    "        y_pred = self.linear(y_pred)\n",
    "        \n",
    "        return y_pred\n",
    "\n",
    "\"\"\"\n",
    "DON'T MODIFY ANYTHING IN THIS CELL THAT IS BELOW THIS LINE\n",
    "\"\"\"\n",
    "tests.test_discriminator(Discriminator)"
   ]
  },
  {
   "cell_type": "markdown",
   "metadata": {},
   "source": [
    "## Generator\n",
    "\n",
    "The generator should upsample an input and generate a *new* image of the same size as our training data `32x32x3`. This should be mostly transpose convolutional layers with normalization applied to the outputs.\n",
    "\n",
    "#### Exercise: Complete the Generator class\n",
    "* The inputs to the generator are vectors of some length `z_size`\n",
    "* The output should be a image of shape `32x32x3`"
   ]
  },
  {
   "cell_type": "code",
   "execution_count": 15,
   "metadata": {},
   "outputs": [],
   "source": [
    "def deconv(in_channels, out_channels, \n",
    "           kernel_size, stride=2, \n",
    "           padding=1, batch_norm=True):\n",
    "    \"\"\"Creates a transposed-convolutional layer, with optional batch normalization.\n",
    "    \"\"\"\n",
    "    layers = []\n",
    "    transpose_conv_layer = nn.ConvTranspose2d(in_channels, out_channels,\n",
    "                                              kernel_size, stride,\n",
    "                                              padding, bias=False)\n",
    "    layers.append(transpose_conv_layer)\n",
    "    \n",
    "    if batch_norm:\n",
    "        layers.append(nn.BatchNorm2d(out_channels))\n",
    "        \n",
    "    return nn.Sequential(*layers)"
   ]
  },
  {
   "cell_type": "code",
   "execution_count": 16,
   "metadata": {},
   "outputs": [
    {
     "name": "stdout",
     "output_type": "stream",
     "text": [
      "Tests Passed\n"
     ]
    }
   ],
   "source": [
    "class Generator(nn.Module):\n",
    "    \n",
    "    def __init__(self, z_size, conv_dim):\n",
    "        \"\"\"\n",
    "        Initialize the Generator Module\n",
    "        :param z_size: The length of the input latent vector, z\n",
    "        :param conv_dim: The depth of the inputs to the *last* transpose convolutional layer\n",
    "        \"\"\"\n",
    "        super(Generator, self).__init__()\n",
    "\n",
    "        self.conv_dim = conv_dim\n",
    "        \n",
    "        #Linear Layer -> Prepare size to conv layers\n",
    "        self.linear = nn.Linear(z_size, (conv_dim*8)*2*2)\n",
    "        \n",
    "        #Conv Layers\n",
    "        #2x2 -> 4x4\n",
    "        self.t_conv1 = deconv(in_channels=conv_dim*8, out_channels=conv_dim*4,\n",
    "                              kernel_size=4, stride=2, padding=1, batch_norm=True)\n",
    "        \n",
    "        #4x4 -> 8x8\n",
    "        self.t_conv2 = deconv(in_channels=conv_dim*4, out_channels=conv_dim*2,\n",
    "                              kernel_size=4, stride=2, padding=1, batch_norm=True)\n",
    "        \n",
    "        #8x8 -> 16x16\n",
    "        self.t_conv3 = deconv(in_channels=conv_dim*2, out_channels=conv_dim,\n",
    "                              kernel_size=4, stride=2, padding=1, batch_norm=True)\n",
    "        \n",
    "        #16x16 -> 32x32\n",
    "        self.t_conv4 = deconv(in_channels=conv_dim, out_channels=3,\n",
    "                              kernel_size=4, stride=2, padding=1, batch_norm=False)\n",
    "        \n",
    "\n",
    "    def forward(self, x):\n",
    "        \"\"\"\n",
    "        Forward propagation of the neural network\n",
    "        :param x: The input to the neural network     \n",
    "        :return: A 32x32x3 Tensor image as output\n",
    "        \"\"\"\n",
    "        # fully-connected + reshape \n",
    "        y_pred = self.linear(x)\n",
    "        y_pred = y_pred.view(-1, (self.conv_dim*8), 2, 2) # (batch_size, depth, 4, 4)\n",
    "        \n",
    "        # hidden transpose conv layers + relu\n",
    "        y_pred = F.relu(self.t_conv1(y_pred))\n",
    "        y_pred = F.relu(self.t_conv2(y_pred))\n",
    "        y_pred = F.relu(self.t_conv3(y_pred))        \n",
    "        \n",
    "        # last layer + tanh activation\n",
    "        y_pred = self.t_conv4(y_pred)\n",
    "        y_pred = F.tanh(y_pred)\n",
    "        \n",
    "        return y_pred\n",
    "\n",
    "\"\"\"\n",
    "DON'T MODIFY ANYTHING IN THIS CELL THAT IS BELOW THIS LINE\n",
    "\"\"\"\n",
    "tests.test_generator(Generator)"
   ]
  },
  {
   "cell_type": "markdown",
   "metadata": {},
   "source": [
    "## Initialize the weights of your networks\n",
    "\n",
    "To help your models converge, you should initialize the weights of the convolutional and linear layers in your model. From reading the [original DCGAN paper](https://arxiv.org/pdf/1511.06434.pdf), they say:\n",
    "> All weights were initialized from a zero-centered Normal distribution with standard deviation 0.02.\n",
    "\n",
    "So, your next task will be to define a weight initialization function that does just this!\n",
    "\n",
    "You can refer back to the lesson on weight initialization or even consult existing model code, such as that from [the `networks.py` file in CycleGAN Github repository](https://github.com/junyanz/pytorch-CycleGAN-and-pix2pix/blob/master/models/networks.py) to help you complete this function.\n",
    "\n",
    "#### Exercise: Complete the weight initialization function\n",
    "\n",
    "* This should initialize only **convolutional** and **linear** layers\n",
    "* Initialize the weights to a normal distribution, centered around 0, with a standard deviation of 0.02.\n",
    "* The bias terms, if they exist, may be left alone or set to 0."
   ]
  },
  {
   "cell_type": "code",
   "execution_count": 17,
   "metadata": {},
   "outputs": [],
   "source": [
    "def weights_init_normal(m):\n",
    "    \"\"\"\n",
    "    Applies initial weights to certain layers in a model .\n",
    "    The weights are taken from a normal distribution \n",
    "    with mean = 0, std dev = 0.02.\n",
    "    :param m: A module or layer in a network    \n",
    "    \"\"\"\n",
    "    # classname will be something like:\n",
    "    # `Conv`, `BatchNorm2d`, `Linear`, etc.\n",
    "    classname = m.__class__.__name__\n",
    "    \n",
    "    # TODO: Apply initial weights to convolutional and linear layers\n",
    "    if classname.find(\"Linear\")*classname.find(\"Conv\") == 0:\n",
    "        m.weight.data.normal_(0, 0.02)"
   ]
  },
  {
   "cell_type": "markdown",
   "metadata": {
    "collapsed": true
   },
   "source": [
    "## Build complete network\n",
    "\n",
    "Define your models' hyperparameters and instantiate the discriminator and generator from the classes defined above. Make sure you've passed in the correct input arguments."
   ]
  },
  {
   "cell_type": "code",
   "execution_count": 18,
   "metadata": {},
   "outputs": [],
   "source": [
    "\"\"\"\n",
    "DON'T MODIFY ANYTHING IN THIS CELL THAT IS BELOW THIS LINE\n",
    "\"\"\"\n",
    "def build_network(d_conv_dim, g_conv_dim, z_size):\n",
    "    # define discriminator and generator\n",
    "    D = Discriminator(d_conv_dim)\n",
    "    G = Generator(z_size=z_size, conv_dim=g_conv_dim)\n",
    "\n",
    "    # initialize model weights\n",
    "    D.apply(weights_init_normal)\n",
    "    G.apply(weights_init_normal)\n",
    "\n",
    "    print(D)\n",
    "    print()\n",
    "    print(G)\n",
    "    \n",
    "    return D, G"
   ]
  },
  {
   "cell_type": "markdown",
   "metadata": {},
   "source": [
    "#### Exercise: Define model hyperparameters"
   ]
  },
  {
   "cell_type": "code",
   "execution_count": 19,
   "metadata": {},
   "outputs": [
    {
     "name": "stdout",
     "output_type": "stream",
     "text": [
      "Discriminator(\n",
      "  (conv_1): Sequential(\n",
      "    (0): Conv2d(3, 64, kernel_size=(4, 4), stride=(2, 2), padding=(1, 1), bias=False)\n",
      "  )\n",
      "  (conv_2): Sequential(\n",
      "    (0): Conv2d(64, 128, kernel_size=(4, 4), stride=(2, 2), padding=(1, 1), bias=False)\n",
      "    (1): BatchNorm2d(128, eps=1e-05, momentum=0.1, affine=True, track_running_stats=True)\n",
      "  )\n",
      "  (conv_3): Sequential(\n",
      "    (0): Conv2d(128, 256, kernel_size=(4, 4), stride=(2, 2), padding=(1, 1), bias=False)\n",
      "    (1): BatchNorm2d(256, eps=1e-05, momentum=0.1, affine=True, track_running_stats=True)\n",
      "  )\n",
      "  (conv_4): Sequential(\n",
      "    (0): Conv2d(256, 512, kernel_size=(4, 4), stride=(2, 2), padding=(1, 1), bias=False)\n",
      "    (1): BatchNorm2d(512, eps=1e-05, momentum=0.1, affine=True, track_running_stats=True)\n",
      "  )\n",
      "  (linear): Linear(in_features=2048, out_features=1, bias=True)\n",
      ")\n",
      "\n",
      "Generator(\n",
      "  (linear): Linear(in_features=100, out_features=2048, bias=True)\n",
      "  (t_conv1): Sequential(\n",
      "    (0): ConvTranspose2d(512, 256, kernel_size=(4, 4), stride=(2, 2), padding=(1, 1), bias=False)\n",
      "    (1): BatchNorm2d(256, eps=1e-05, momentum=0.1, affine=True, track_running_stats=True)\n",
      "  )\n",
      "  (t_conv2): Sequential(\n",
      "    (0): ConvTranspose2d(256, 128, kernel_size=(4, 4), stride=(2, 2), padding=(1, 1), bias=False)\n",
      "    (1): BatchNorm2d(128, eps=1e-05, momentum=0.1, affine=True, track_running_stats=True)\n",
      "  )\n",
      "  (t_conv3): Sequential(\n",
      "    (0): ConvTranspose2d(128, 64, kernel_size=(4, 4), stride=(2, 2), padding=(1, 1), bias=False)\n",
      "    (1): BatchNorm2d(64, eps=1e-05, momentum=0.1, affine=True, track_running_stats=True)\n",
      "  )\n",
      "  (t_conv4): Sequential(\n",
      "    (0): ConvTranspose2d(64, 3, kernel_size=(4, 4), stride=(2, 2), padding=(1, 1), bias=False)\n",
      "  )\n",
      ")\n"
     ]
    }
   ],
   "source": [
    "# Define model hyperparams\n",
    "d_conv_dim = 64\n",
    "g_conv_dim = 64\n",
    "z_size = 100\n",
    "\n",
    "\"\"\"\n",
    "DON'T MODIFY ANYTHING IN THIS CELL THAT IS BELOW THIS LINE\n",
    "\"\"\"\n",
    "D, G = build_network(d_conv_dim, g_conv_dim, z_size)"
   ]
  },
  {
   "cell_type": "markdown",
   "metadata": {},
   "source": [
    "### Training on GPU\n",
    "\n",
    "Check if you can train on GPU. Here, we'll set this as a boolean variable `train_on_gpu`. Later, you'll be responsible for making sure that \n",
    ">* Models,\n",
    "* Model inputs, and\n",
    "* Loss function arguments\n",
    "\n",
    "Are moved to GPU, where appropriate."
   ]
  },
  {
   "cell_type": "code",
   "execution_count": 20,
   "metadata": {},
   "outputs": [
    {
     "name": "stdout",
     "output_type": "stream",
     "text": [
      "Training on GPU!\n"
     ]
    }
   ],
   "source": [
    "\"\"\"\n",
    "DON'T MODIFY ANYTHING IN THIS CELL\n",
    "\"\"\"\n",
    "import torch\n",
    "\n",
    "# Check for a GPU\n",
    "train_on_gpu = torch.cuda.is_available()\n",
    "if not train_on_gpu:\n",
    "    print('No GPU found. Please use a GPU to train your neural network.')\n",
    "else:\n",
    "    print('Training on GPU!')"
   ]
  },
  {
   "cell_type": "markdown",
   "metadata": {},
   "source": [
    "---\n",
    "## Discriminator and Generator Losses\n",
    "\n",
    "Now we need to calculate the losses for both types of adversarial networks.\n",
    "\n",
    "### Discriminator Losses\n",
    "\n",
    "> * For the discriminator, the total loss is the sum of the losses for real and fake images, `d_loss = d_real_loss + d_fake_loss`. \n",
    "* Remember that we want the discriminator to output 1 for real images and 0 for fake images, so we need to set up the losses to reflect that.\n",
    "\n",
    "\n",
    "### Generator Loss\n",
    "\n",
    "The generator loss will look similar only with flipped labels. The generator's goal is to get the discriminator to *think* its generated images are *real*.\n",
    "\n",
    "#### Exercise: Complete real and fake loss functions\n",
    "\n",
    "**You may choose to use either cross entropy or a least squares error loss to complete the following `real_loss` and `fake_loss` functions.**"
   ]
  },
  {
   "cell_type": "code",
   "execution_count": 21,
   "metadata": {},
   "outputs": [],
   "source": [
    "def real_loss(D_out, smooth=False):\n",
    "    '''Calculates how close discriminator outputs are to being real.\n",
    "       param, D_out: discriminator logits\n",
    "       return: real loss'''\n",
    "    \n",
    "    batch_size = D_out.size(0)\n",
    "    \n",
    "    #Smoothing\n",
    "    if smooth:\n",
    "        labels = torch.ones(batch_size)*0.9\n",
    "    else:\n",
    "        labels = torch.ones(batch_size) # real labels = 1\n",
    "\n",
    "    if train_on_gpu:\n",
    "        labels = labels.cuda()\n",
    "        \n",
    "    #Binary cross entropy with logits loss\n",
    "    criterion = nn.BCEWithLogitsLoss()\n",
    "    \n",
    "    #Compute loss\n",
    "    loss = criterion(D_out.squeeze(), labels)\n",
    "    \n",
    "    return loss\n",
    "\n",
    "def fake_loss(D_out):\n",
    "    '''Calculates how close discriminator outputs are to being fake.\n",
    "       param, D_out: discriminator logits\n",
    "       return: fake loss'''\n",
    "    \n",
    "    batch_size = D_out.size(0)\n",
    "    \n",
    "    labels = torch.zeros(batch_size)\n",
    "    \n",
    "    if train_on_gpu:\n",
    "        labels = labels.cuda()\n",
    "    \n",
    "    #Binary cross entropy with logits loss   \n",
    "    criterion = nn.BCEWithLogitsLoss()\n",
    "    \n",
    "    #Compute loss\n",
    "    loss = criterion(D_out.squeeze(), labels)\n",
    "    \n",
    "    return loss"
   ]
  },
  {
   "cell_type": "markdown",
   "metadata": {},
   "source": [
    "## Optimizers\n",
    "\n",
    "#### Exercise: Define optimizers for your Discriminator (D) and Generator (G)\n",
    "\n",
    "Define optimizers for your models with appropriate hyperparameters."
   ]
  },
  {
   "cell_type": "code",
   "execution_count": 22,
   "metadata": {},
   "outputs": [],
   "source": [
    "import torch.optim as optim\n",
    "\n",
    "# params\n",
    "lr = 0.0002\n",
    "beta1=0.5\n",
    "beta2=0.999 # default value\n",
    "\n",
    "# Create optimizers for the discriminator D and generator G\n",
    "d_optimizer = optim.Adam(D.parameters(), lr, [beta1, beta2])\n",
    "g_optimizer = optim.Adam(G.parameters(), lr, [beta1, beta2])"
   ]
  },
  {
   "cell_type": "markdown",
   "metadata": {},
   "source": [
    "---\n",
    "## Training\n",
    "\n",
    "Training will involve alternating between training the discriminator and the generator. You'll use your functions `real_loss` and `fake_loss` to help you calculate the discriminator losses.\n",
    "\n",
    "* You should train the discriminator by alternating on real and fake images\n",
    "* Then the generator, which tries to trick the discriminator and should have an opposing loss function\n",
    "\n",
    "\n",
    "#### Saving Samples\n",
    "\n",
    "You've been given some code to print out some loss statistics and save some generated \"fake\" samples."
   ]
  },
  {
   "cell_type": "markdown",
   "metadata": {},
   "source": [
    "#### Exercise: Complete the training function\n",
    "\n",
    "Keep in mind that, if you've moved your models to GPU, you'll also have to move any model inputs to GPU."
   ]
  },
  {
   "cell_type": "code",
   "execution_count": 25,
   "metadata": {},
   "outputs": [],
   "source": [
    "def train(D, G, n_epochs, print_every=150):\n",
    "    '''Trains adversarial networks for some number of epochs\n",
    "       param, D: the discriminator network\n",
    "       param, G: the generator network\n",
    "       param, n_epochs: number of epochs to train for\n",
    "       param, print_every: when to print and record the models' losses\n",
    "       return: D and G losses'''\n",
    "    \n",
    "    # move models to GPU\n",
    "    if train_on_gpu:\n",
    "        D.cuda()\n",
    "        G.cuda()\n",
    "\n",
    "    # keep track of loss and generated, \"fake\" samples\n",
    "    samples = []\n",
    "    losses = []\n",
    "\n",
    "    # Get some fixed data for sampling. These are images that are held\n",
    "    # constant throughout training, and allow us to inspect the model's performance\n",
    "    sample_size=16\n",
    "    fixed_z = np.random.uniform(-1, 1, size=(sample_size, z_size))\n",
    "    fixed_z = torch.from_numpy(fixed_z).float()\n",
    "    \n",
    "    # move z to GPU if available\n",
    "    if train_on_gpu:\n",
    "        fixed_z = fixed_z.cuda()\n",
    "\n",
    "    # epoch training loop\n",
    "    for epoch in range(n_epochs):\n",
    "\n",
    "        # batch training loop\n",
    "        for batch_i, (real_images, _) in enumerate(celeba_train_loader):\n",
    "\n",
    "            batch_size = real_images.size(0)\n",
    "            real_images = scale(real_images)\n",
    "            \n",
    "            if train_on_gpu:\n",
    "                real_images = real_images.cuda()\n",
    "            \n",
    "            # ===============================================\n",
    "            #         YOUR CODE HERE: TRAIN THE NETWORKS\n",
    "            # ===============================================\n",
    "            \n",
    "            # 1. Train the discriminator on real and fake images\n",
    "            #Reset gradients\n",
    "            d_optimizer.zero_grad()\n",
    "            \n",
    "            #Compute Loss for Real Images\n",
    "            D_real = D(real_images)\n",
    "            d_real_loss = real_loss(D_real, smooth=True)      \n",
    "            \n",
    "            #Compute Loss for Fake Images\n",
    "            z = np.random.uniform(-1, 1, size=(batch_size, z_size))\n",
    "            z = torch.from_numpy(z).float()\n",
    "            if train_on_gpu:\n",
    "                z = z.cuda()\n",
    "            fake_images = G(z)\n",
    "\n",
    "            D_fake = D(fake_images)\n",
    "            d_fake_loss = fake_loss(D_fake)   \n",
    "            \n",
    "            #Add both losses and perform backpropagation\n",
    "            d_loss = d_real_loss + d_fake_loss\n",
    "            d_loss.backward()\n",
    "            d_optimizer.step()\n",
    "        \n",
    "            # 2. Train the generator with an adversarial loss\n",
    "            #Reset gradients\n",
    "            g_optimizer.zero_grad() \n",
    "            \n",
    "            #Compute Loss for Fake Generated Images\n",
    "            z = np.random.uniform(-1, 1, size=(batch_size, z_size))\n",
    "            z = torch.from_numpy(z).float()\n",
    "            if train_on_gpu:\n",
    "                z = z.cuda()\n",
    "            fake_images = G(z)\n",
    "            \n",
    "            #Compute loss as if the image was real (trying to trick the discriminator)\n",
    "            D_fake = D(fake_images)\n",
    "            g_loss = real_loss(D_fake, smooth=True)   \n",
    "            \n",
    "            #Perform backpropagation\n",
    "            g_loss.backward()\n",
    "            g_optimizer.step()\n",
    "            \n",
    "            # ===============================================\n",
    "            #              END OF YOUR CODE\n",
    "            # ===============================================\n",
    "\n",
    "            # Print some loss stats\n",
    "            if batch_i % print_every == 0:\n",
    "                # append discriminator loss and generator loss\n",
    "                losses.append((d_loss.item(), g_loss.item()))\n",
    "                # print discriminator and generator loss\n",
    "                print('Epoch [{:5d}/{:5d}] | d_loss: {:6.4f} | g_loss: {:6.4f}'.format(\n",
    "                        epoch+1, n_epochs, d_loss.item(), g_loss.item()))\n",
    "\n",
    "\n",
    "        ## AFTER EACH EPOCH##    \n",
    "        # this code assumes your generator is named G, feel free to change the name\n",
    "        # generate and save sample, fake images\n",
    "        G.eval() # for generating samples\n",
    "        samples_z = G(fixed_z)\n",
    "        samples.append(samples_z)\n",
    "        G.train() # back to training mode\n",
    "\n",
    "    # Save training generator samples\n",
    "    with open('train_samples.pkl', 'wb') as f:\n",
    "        pkl.dump(samples, f)\n",
    "    \n",
    "    # finally return losses\n",
    "    return losses"
   ]
  },
  {
   "cell_type": "markdown",
   "metadata": {},
   "source": [
    "Set your number of training epochs and train your GAN!"
   ]
  },
  {
   "cell_type": "code",
   "execution_count": 26,
   "metadata": {
    "scrolled": true
   },
   "outputs": [
    {
     "name": "stdout",
     "output_type": "stream",
     "text": [
      "Epoch [    1/   30] | d_loss: 0.4821 | g_loss: 2.7385\n",
      "Epoch [    1/   30] | d_loss: 0.7437 | g_loss: 2.4772\n",
      "Epoch [    1/   30] | d_loss: 0.6701 | g_loss: 3.1086\n",
      "Epoch [    1/   30] | d_loss: 0.5810 | g_loss: 3.1571\n",
      "Epoch [    1/   30] | d_loss: 0.5996 | g_loss: 2.4966\n",
      "Epoch [    1/   30] | d_loss: 0.7557 | g_loss: 1.8188\n",
      "Epoch [    1/   30] | d_loss: 0.7160 | g_loss: 2.4406\n",
      "Epoch [    1/   30] | d_loss: 1.1291 | g_loss: 2.0640\n",
      "Epoch [    1/   30] | d_loss: 0.8105 | g_loss: 1.5498\n",
      "Epoch [    1/   30] | d_loss: 0.7125 | g_loss: 2.4951\n",
      "Epoch [    2/   30] | d_loss: 0.9097 | g_loss: 2.0407\n",
      "Epoch [    2/   30] | d_loss: 0.9755 | g_loss: 1.9336\n",
      "Epoch [    2/   30] | d_loss: 0.8275 | g_loss: 1.6296\n",
      "Epoch [    2/   30] | d_loss: 0.8832 | g_loss: 2.9276\n",
      "Epoch [    2/   30] | d_loss: 0.9781 | g_loss: 2.1036\n",
      "Epoch [    2/   30] | d_loss: 0.8420 | g_loss: 1.7417\n",
      "Epoch [    2/   30] | d_loss: 0.8271 | g_loss: 1.6584\n",
      "Epoch [    2/   30] | d_loss: 1.0143 | g_loss: 1.4867\n",
      "Epoch [    2/   30] | d_loss: 0.9836 | g_loss: 1.2109\n",
      "Epoch [    2/   30] | d_loss: 0.8050 | g_loss: 2.5281\n",
      "Epoch [    3/   30] | d_loss: 0.9485 | g_loss: 1.1875\n",
      "Epoch [    3/   30] | d_loss: 0.7813 | g_loss: 2.7949\n",
      "Epoch [    3/   30] | d_loss: 0.8005 | g_loss: 2.4224\n",
      "Epoch [    3/   30] | d_loss: 1.0184 | g_loss: 2.7640\n",
      "Epoch [    3/   30] | d_loss: 1.2698 | g_loss: 1.6286\n",
      "Epoch [    3/   30] | d_loss: 0.8880 | g_loss: 1.4874\n",
      "Epoch [    3/   30] | d_loss: 1.0867 | g_loss: 2.7701\n",
      "Epoch [    3/   30] | d_loss: 0.7386 | g_loss: 2.1021\n",
      "Epoch [    3/   30] | d_loss: 0.8967 | g_loss: 1.9944\n",
      "Epoch [    3/   30] | d_loss: 0.7836 | g_loss: 2.0630\n",
      "Epoch [    4/   30] | d_loss: 0.8597 | g_loss: 1.6965\n",
      "Epoch [    4/   30] | d_loss: 0.9619 | g_loss: 1.1297\n",
      "Epoch [    4/   30] | d_loss: 0.6823 | g_loss: 2.3652\n",
      "Epoch [    4/   30] | d_loss: 1.1995 | g_loss: 0.8821\n",
      "Epoch [    4/   30] | d_loss: 0.8772 | g_loss: 2.1003\n",
      "Epoch [    4/   30] | d_loss: 0.9005 | g_loss: 2.0797\n",
      "Epoch [    4/   30] | d_loss: 1.4152 | g_loss: 1.1697\n",
      "Epoch [    4/   30] | d_loss: 0.7747 | g_loss: 1.8840\n",
      "Epoch [    4/   30] | d_loss: 1.0253 | g_loss: 0.9354\n",
      "Epoch [    4/   30] | d_loss: 1.0729 | g_loss: 2.6625\n",
      "Epoch [    5/   30] | d_loss: 0.9292 | g_loss: 1.8748\n",
      "Epoch [    5/   30] | d_loss: 0.9599 | g_loss: 1.8419\n",
      "Epoch [    5/   30] | d_loss: 0.7836 | g_loss: 2.2770\n",
      "Epoch [    5/   30] | d_loss: 0.7829 | g_loss: 2.6971\n",
      "Epoch [    5/   30] | d_loss: 1.1042 | g_loss: 1.3952\n",
      "Epoch [    5/   30] | d_loss: 0.7104 | g_loss: 2.7723\n",
      "Epoch [    5/   30] | d_loss: 0.8093 | g_loss: 2.6213\n",
      "Epoch [    5/   30] | d_loss: 0.9506 | g_loss: 1.6799\n",
      "Epoch [    5/   30] | d_loss: 0.8774 | g_loss: 1.4957\n",
      "Epoch [    5/   30] | d_loss: 0.6553 | g_loss: 2.2250\n",
      "Epoch [    6/   30] | d_loss: 0.8674 | g_loss: 2.1758\n",
      "Epoch [    6/   30] | d_loss: 0.9960 | g_loss: 1.5383\n",
      "Epoch [    6/   30] | d_loss: 0.9317 | g_loss: 0.8769\n",
      "Epoch [    6/   30] | d_loss: 0.8476 | g_loss: 1.9781\n",
      "Epoch [    6/   30] | d_loss: 0.6457 | g_loss: 2.1937\n",
      "Epoch [    6/   30] | d_loss: 1.0708 | g_loss: 1.9314\n",
      "Epoch [    6/   30] | d_loss: 0.7352 | g_loss: 1.3543\n",
      "Epoch [    6/   30] | d_loss: 1.0053 | g_loss: 2.0680\n",
      "Epoch [    6/   30] | d_loss: 0.8914 | g_loss: 1.7210\n",
      "Epoch [    6/   30] | d_loss: 0.9958 | g_loss: 1.9590\n",
      "Epoch [    7/   30] | d_loss: 0.7111 | g_loss: 2.7611\n",
      "Epoch [    7/   30] | d_loss: 0.5923 | g_loss: 3.2050\n",
      "Epoch [    7/   30] | d_loss: 0.7196 | g_loss: 2.3759\n",
      "Epoch [    7/   30] | d_loss: 0.5592 | g_loss: 2.9567\n",
      "Epoch [    7/   30] | d_loss: 0.9026 | g_loss: 1.9012\n",
      "Epoch [    7/   30] | d_loss: 0.9356 | g_loss: 1.9930\n",
      "Epoch [    7/   30] | d_loss: 0.8882 | g_loss: 1.0333\n",
      "Epoch [    7/   30] | d_loss: 0.7896 | g_loss: 1.9411\n",
      "Epoch [    7/   30] | d_loss: 1.3763 | g_loss: 0.6522\n",
      "Epoch [    7/   30] | d_loss: 0.8464 | g_loss: 2.3703\n",
      "Epoch [    8/   30] | d_loss: 0.7848 | g_loss: 1.7046\n",
      "Epoch [    8/   30] | d_loss: 0.7264 | g_loss: 1.8228\n",
      "Epoch [    8/   30] | d_loss: 0.9048 | g_loss: 1.9520\n",
      "Epoch [    8/   30] | d_loss: 0.8321 | g_loss: 1.2476\n",
      "Epoch [    8/   30] | d_loss: 0.6383 | g_loss: 2.2884\n",
      "Epoch [    8/   30] | d_loss: 0.8089 | g_loss: 1.5151\n",
      "Epoch [    8/   30] | d_loss: 0.7189 | g_loss: 1.7354\n",
      "Epoch [    8/   30] | d_loss: 0.6328 | g_loss: 2.1816\n",
      "Epoch [    8/   30] | d_loss: 0.7324 | g_loss: 1.2502\n",
      "Epoch [    8/   30] | d_loss: 0.8465 | g_loss: 1.9390\n",
      "Epoch [    9/   30] | d_loss: 1.4795 | g_loss: 3.2634\n",
      "Epoch [    9/   30] | d_loss: 0.7412 | g_loss: 1.1671\n",
      "Epoch [    9/   30] | d_loss: 0.7874 | g_loss: 3.0802\n",
      "Epoch [    9/   30] | d_loss: 0.7329 | g_loss: 2.5060\n",
      "Epoch [    9/   30] | d_loss: 0.7051 | g_loss: 1.3009\n",
      "Epoch [    9/   30] | d_loss: 0.6162 | g_loss: 2.7877\n",
      "Epoch [    9/   30] | d_loss: 0.7047 | g_loss: 2.4057\n",
      "Epoch [    9/   30] | d_loss: 0.6223 | g_loss: 1.4048\n",
      "Epoch [    9/   30] | d_loss: 0.6637 | g_loss: 1.8967\n",
      "Epoch [    9/   30] | d_loss: 0.6542 | g_loss: 2.6990\n",
      "Epoch [   10/   30] | d_loss: 1.3178 | g_loss: 3.5511\n",
      "Epoch [   10/   30] | d_loss: 0.7410 | g_loss: 2.0566\n",
      "Epoch [   10/   30] | d_loss: 0.7098 | g_loss: 1.9566\n",
      "Epoch [   10/   30] | d_loss: 0.6808 | g_loss: 2.2795\n",
      "Epoch [   10/   30] | d_loss: 1.0712 | g_loss: 1.1771\n",
      "Epoch [   10/   30] | d_loss: 0.6756 | g_loss: 1.4064\n",
      "Epoch [   10/   30] | d_loss: 0.6830 | g_loss: 2.2526\n",
      "Epoch [   10/   30] | d_loss: 0.6908 | g_loss: 3.2778\n",
      "Epoch [   10/   30] | d_loss: 0.5899 | g_loss: 2.3490\n",
      "Epoch [   10/   30] | d_loss: 0.7964 | g_loss: 1.4819\n",
      "Epoch [   11/   30] | d_loss: 0.7760 | g_loss: 2.7560\n",
      "Epoch [   11/   30] | d_loss: 0.9018 | g_loss: 2.3727\n",
      "Epoch [   11/   30] | d_loss: 1.0092 | g_loss: 3.4298\n",
      "Epoch [   11/   30] | d_loss: 0.6434 | g_loss: 2.9173\n",
      "Epoch [   11/   30] | d_loss: 0.7506 | g_loss: 3.2363\n",
      "Epoch [   11/   30] | d_loss: 0.5394 | g_loss: 3.5498\n",
      "Epoch [   11/   30] | d_loss: 0.7673 | g_loss: 3.6265\n",
      "Epoch [   11/   30] | d_loss: 1.0459 | g_loss: 0.9173\n",
      "Epoch [   11/   30] | d_loss: 0.5691 | g_loss: 2.5131\n",
      "Epoch [   11/   30] | d_loss: 0.5685 | g_loss: 2.7923\n",
      "Epoch [   12/   30] | d_loss: 0.8243 | g_loss: 2.0448\n",
      "Epoch [   12/   30] | d_loss: 0.6956 | g_loss: 3.1760\n",
      "Epoch [   12/   30] | d_loss: 0.7136 | g_loss: 2.8566\n",
      "Epoch [   12/   30] | d_loss: 0.5899 | g_loss: 3.4646\n",
      "Epoch [   12/   30] | d_loss: 0.6755 | g_loss: 2.4200\n",
      "Epoch [   12/   30] | d_loss: 0.7824 | g_loss: 1.5057\n",
      "Epoch [   12/   30] | d_loss: 0.5525 | g_loss: 2.4177\n",
      "Epoch [   12/   30] | d_loss: 0.5607 | g_loss: 2.3627\n",
      "Epoch [   12/   30] | d_loss: 0.9210 | g_loss: 1.3920\n",
      "Epoch [   12/   30] | d_loss: 1.1052 | g_loss: 3.0032\n",
      "Epoch [   13/   30] | d_loss: 0.7410 | g_loss: 2.3008\n",
      "Epoch [   13/   30] | d_loss: 0.4569 | g_loss: 3.4240\n",
      "Epoch [   13/   30] | d_loss: 1.1568 | g_loss: 1.7057\n",
      "Epoch [   13/   30] | d_loss: 0.5111 | g_loss: 2.4356\n",
      "Epoch [   13/   30] | d_loss: 0.5703 | g_loss: 1.7585\n",
      "Epoch [   13/   30] | d_loss: 0.9527 | g_loss: 2.7159\n",
      "Epoch [   13/   30] | d_loss: 0.7108 | g_loss: 2.6062\n",
      "Epoch [   13/   30] | d_loss: 0.9031 | g_loss: 2.0119\n",
      "Epoch [   13/   30] | d_loss: 0.5971 | g_loss: 2.3867\n",
      "Epoch [   13/   30] | d_loss: 0.5063 | g_loss: 3.6619\n",
      "Epoch [   14/   30] | d_loss: 1.9155 | g_loss: 3.6815\n",
      "Epoch [   14/   30] | d_loss: 0.5157 | g_loss: 3.0065\n",
      "Epoch [   14/   30] | d_loss: 0.5928 | g_loss: 1.1350\n",
      "Epoch [   14/   30] | d_loss: 0.5153 | g_loss: 2.4887\n",
      "Epoch [   14/   30] | d_loss: 0.8922 | g_loss: 1.6680\n",
      "Epoch [   14/   30] | d_loss: 0.6941 | g_loss: 2.2953\n",
      "Epoch [   14/   30] | d_loss: 0.6260 | g_loss: 3.2651\n",
      "Epoch [   14/   30] | d_loss: 0.6162 | g_loss: 2.5877\n",
      "Epoch [   14/   30] | d_loss: 0.4459 | g_loss: 2.3533\n",
      "Epoch [   14/   30] | d_loss: 0.6098 | g_loss: 2.2087\n",
      "Epoch [   15/   30] | d_loss: 0.4752 | g_loss: 2.4364\n",
      "Epoch [   15/   30] | d_loss: 0.6731 | g_loss: 2.8148\n",
      "Epoch [   15/   30] | d_loss: 0.5767 | g_loss: 2.8783\n",
      "Epoch [   15/   30] | d_loss: 0.4852 | g_loss: 3.3671\n",
      "Epoch [   15/   30] | d_loss: 0.8349 | g_loss: 3.3229\n",
      "Epoch [   15/   30] | d_loss: 0.5990 | g_loss: 3.0218\n",
      "Epoch [   15/   30] | d_loss: 0.6227 | g_loss: 2.2059\n",
      "Epoch [   15/   30] | d_loss: 0.9099 | g_loss: 1.8302\n",
      "Epoch [   15/   30] | d_loss: 0.5541 | g_loss: 2.2786\n",
      "Epoch [   15/   30] | d_loss: 0.5414 | g_loss: 3.0279\n",
      "Epoch [   16/   30] | d_loss: 0.7307 | g_loss: 4.7763\n",
      "Epoch [   16/   30] | d_loss: 0.6133 | g_loss: 2.5408\n",
      "Epoch [   16/   30] | d_loss: 0.5311 | g_loss: 3.5193\n",
      "Epoch [   16/   30] | d_loss: 0.4198 | g_loss: 4.4575\n",
      "Epoch [   16/   30] | d_loss: 0.5691 | g_loss: 2.9251\n",
      "Epoch [   16/   30] | d_loss: 0.6147 | g_loss: 3.3949\n",
      "Epoch [   16/   30] | d_loss: 0.4875 | g_loss: 3.2470\n",
      "Epoch [   16/   30] | d_loss: 0.5546 | g_loss: 2.7910\n",
      "Epoch [   16/   30] | d_loss: 0.4958 | g_loss: 3.0677\n",
      "Epoch [   16/   30] | d_loss: 0.6215 | g_loss: 2.9179\n",
      "Epoch [   17/   30] | d_loss: 0.7853 | g_loss: 4.1930\n",
      "Epoch [   17/   30] | d_loss: 0.5547 | g_loss: 2.9139\n",
      "Epoch [   17/   30] | d_loss: 0.4705 | g_loss: 2.8722\n",
      "Epoch [   17/   30] | d_loss: 0.4074 | g_loss: 4.1096\n",
      "Epoch [   17/   30] | d_loss: 0.4907 | g_loss: 3.4325\n",
      "Epoch [   17/   30] | d_loss: 0.4638 | g_loss: 3.0009\n",
      "Epoch [   17/   30] | d_loss: 0.5449 | g_loss: 2.8633\n",
      "Epoch [   17/   30] | d_loss: 0.5727 | g_loss: 1.7622\n",
      "Epoch [   17/   30] | d_loss: 0.4757 | g_loss: 3.3948\n",
      "Epoch [   17/   30] | d_loss: 0.5343 | g_loss: 3.1802\n",
      "Epoch [   18/   30] | d_loss: 0.9182 | g_loss: 3.8463\n",
      "Epoch [   18/   30] | d_loss: 0.4724 | g_loss: 3.3727\n",
      "Epoch [   18/   30] | d_loss: 0.5128 | g_loss: 3.6107\n",
      "Epoch [   18/   30] | d_loss: 0.5885 | g_loss: 3.3834\n",
      "Epoch [   18/   30] | d_loss: 0.5018 | g_loss: 2.2269\n",
      "Epoch [   18/   30] | d_loss: 0.6033 | g_loss: 3.7886\n",
      "Epoch [   18/   30] | d_loss: 0.4432 | g_loss: 2.6419\n",
      "Epoch [   18/   30] | d_loss: 0.5264 | g_loss: 2.5825\n",
      "Epoch [   18/   30] | d_loss: 0.6860 | g_loss: 0.9893\n",
      "Epoch [   18/   30] | d_loss: 0.5697 | g_loss: 3.5118\n",
      "Epoch [   19/   30] | d_loss: 0.4613 | g_loss: 3.1572\n",
      "Epoch [   19/   30] | d_loss: 0.5987 | g_loss: 2.5726\n",
      "Epoch [   19/   30] | d_loss: 0.4682 | g_loss: 2.3944\n",
      "Epoch [   19/   30] | d_loss: 0.6531 | g_loss: 4.3190\n",
      "Epoch [   19/   30] | d_loss: 0.4224 | g_loss: 3.4633\n",
      "Epoch [   19/   30] | d_loss: 0.7503 | g_loss: 3.7416\n",
      "Epoch [   19/   30] | d_loss: 0.5232 | g_loss: 2.5032\n",
      "Epoch [   19/   30] | d_loss: 0.5266 | g_loss: 2.4516\n",
      "Epoch [   19/   30] | d_loss: 0.5049 | g_loss: 3.9095\n",
      "Epoch [   19/   30] | d_loss: 0.4819 | g_loss: 2.8231\n",
      "Epoch [   20/   30] | d_loss: 0.7184 | g_loss: 3.4803\n",
      "Epoch [   20/   30] | d_loss: 0.4592 | g_loss: 3.5560\n",
      "Epoch [   20/   30] | d_loss: 0.5697 | g_loss: 3.2996\n",
      "Epoch [   20/   30] | d_loss: 2.9810 | g_loss: 4.5422\n",
      "Epoch [   20/   30] | d_loss: 0.5656 | g_loss: 2.3803\n",
      "Epoch [   20/   30] | d_loss: 0.4849 | g_loss: 2.8132\n",
      "Epoch [   20/   30] | d_loss: 0.7307 | g_loss: 2.4434\n",
      "Epoch [   20/   30] | d_loss: 0.6059 | g_loss: 2.1931\n",
      "Epoch [   20/   30] | d_loss: 0.4428 | g_loss: 2.2402\n",
      "Epoch [   20/   30] | d_loss: 0.4548 | g_loss: 3.7146\n",
      "Epoch [   21/   30] | d_loss: 0.4734 | g_loss: 4.0305\n",
      "Epoch [   21/   30] | d_loss: 0.5573 | g_loss: 3.9664\n",
      "Epoch [   21/   30] | d_loss: 0.4363 | g_loss: 3.7192\n",
      "Epoch [   21/   30] | d_loss: 0.5490 | g_loss: 2.8196\n",
      "Epoch [   21/   30] | d_loss: 0.6179 | g_loss: 1.7024\n",
      "Epoch [   21/   30] | d_loss: 0.4868 | g_loss: 3.0002\n",
      "Epoch [   21/   30] | d_loss: 0.4503 | g_loss: 2.9104\n",
      "Epoch [   21/   30] | d_loss: 0.5003 | g_loss: 2.7329\n",
      "Epoch [   21/   30] | d_loss: 0.4911 | g_loss: 2.4121\n",
      "Epoch [   21/   30] | d_loss: 0.3889 | g_loss: 4.6307\n",
      "Epoch [   22/   30] | d_loss: 0.7571 | g_loss: 2.9071\n",
      "Epoch [   22/   30] | d_loss: 0.4709 | g_loss: 3.3355\n",
      "Epoch [   22/   30] | d_loss: 0.5951 | g_loss: 3.4680\n",
      "Epoch [   22/   30] | d_loss: 0.5646 | g_loss: 3.9417\n",
      "Epoch [   22/   30] | d_loss: 0.4390 | g_loss: 2.9508\n",
      "Epoch [   22/   30] | d_loss: 0.4674 | g_loss: 2.3900\n",
      "Epoch [   22/   30] | d_loss: 0.6744 | g_loss: 2.1816\n",
      "Epoch [   22/   30] | d_loss: 0.5464 | g_loss: 2.6119\n",
      "Epoch [   22/   30] | d_loss: 0.6042 | g_loss: 1.7794\n",
      "Epoch [   22/   30] | d_loss: 0.6442 | g_loss: 1.8844\n",
      "Epoch [   23/   30] | d_loss: 0.9282 | g_loss: 4.8335\n",
      "Epoch [   23/   30] | d_loss: 0.4619 | g_loss: 3.5337\n",
      "Epoch [   23/   30] | d_loss: 0.7373 | g_loss: 3.0859\n",
      "Epoch [   23/   30] | d_loss: 0.7158 | g_loss: 3.7312\n",
      "Epoch [   23/   30] | d_loss: 0.4402 | g_loss: 3.5803\n",
      "Epoch [   23/   30] | d_loss: 0.9312 | g_loss: 3.8709\n",
      "Epoch [   23/   30] | d_loss: 0.5827 | g_loss: 3.3707\n",
      "Epoch [   23/   30] | d_loss: 0.4282 | g_loss: 4.0478\n",
      "Epoch [   23/   30] | d_loss: 0.6543 | g_loss: 3.6885\n",
      "Epoch [   23/   30] | d_loss: 0.8569 | g_loss: 2.2338\n",
      "Epoch [   24/   30] | d_loss: 1.3269 | g_loss: 4.5206\n",
      "Epoch [   24/   30] | d_loss: 0.5331 | g_loss: 2.2846\n",
      "Epoch [   24/   30] | d_loss: 0.4232 | g_loss: 2.2375\n",
      "Epoch [   24/   30] | d_loss: 0.4834 | g_loss: 3.1071\n",
      "Epoch [   24/   30] | d_loss: 0.4186 | g_loss: 2.4665\n",
      "Epoch [   24/   30] | d_loss: 0.6709 | g_loss: 2.1433\n",
      "Epoch [   24/   30] | d_loss: 0.5885 | g_loss: 3.6507\n",
      "Epoch [   24/   30] | d_loss: 0.4620 | g_loss: 3.7908\n",
      "Epoch [   24/   30] | d_loss: 0.5207 | g_loss: 2.9123\n",
      "Epoch [   24/   30] | d_loss: 0.5150 | g_loss: 1.9270\n",
      "Epoch [   25/   30] | d_loss: 0.9682 | g_loss: 3.1614\n",
      "Epoch [   25/   30] | d_loss: 0.4634 | g_loss: 3.1928\n",
      "Epoch [   25/   30] | d_loss: 0.5582 | g_loss: 1.2513\n",
      "Epoch [   25/   30] | d_loss: 0.5336 | g_loss: 4.2464\n",
      "Epoch [   25/   30] | d_loss: 0.5061 | g_loss: 1.7679\n",
      "Epoch [   25/   30] | d_loss: 0.9095 | g_loss: 2.8135\n",
      "Epoch [   25/   30] | d_loss: 0.9084 | g_loss: 1.7190\n",
      "Epoch [   25/   30] | d_loss: 0.4485 | g_loss: 3.0611\n",
      "Epoch [   25/   30] | d_loss: 0.6290 | g_loss: 3.8586\n",
      "Epoch [   26/   30] | d_loss: 0.9336 | g_loss: 2.5856\n",
      "Epoch [   26/   30] | d_loss: 0.5532 | g_loss: 5.4194\n",
      "Epoch [   26/   30] | d_loss: 0.8092 | g_loss: 2.4069\n",
      "Epoch [   26/   30] | d_loss: 0.3871 | g_loss: 3.2841\n",
      "Epoch [   26/   30] | d_loss: 0.4877 | g_loss: 4.2208\n",
      "Epoch [   26/   30] | d_loss: 0.4723 | g_loss: 3.3084\n",
      "Epoch [   26/   30] | d_loss: 0.6259 | g_loss: 2.2304\n",
      "Epoch [   26/   30] | d_loss: 0.4694 | g_loss: 3.6039\n",
      "Epoch [   26/   30] | d_loss: 0.5322 | g_loss: 2.4764\n",
      "Epoch [   26/   30] | d_loss: 0.5251 | g_loss: 4.2132\n",
      "Epoch [   27/   30] | d_loss: 1.1209 | g_loss: 5.5000\n",
      "Epoch [   27/   30] | d_loss: 0.4683 | g_loss: 3.8839\n",
      "Epoch [   27/   30] | d_loss: 2.5071 | g_loss: 1.8233\n",
      "Epoch [   27/   30] | d_loss: 0.4243 | g_loss: 4.2217\n",
      "Epoch [   27/   30] | d_loss: 0.4439 | g_loss: 3.4572\n",
      "Epoch [   27/   30] | d_loss: 0.8951 | g_loss: 2.8997\n",
      "Epoch [   27/   30] | d_loss: 0.6931 | g_loss: 3.6518\n",
      "Epoch [   27/   30] | d_loss: 1.0454 | g_loss: 5.1299\n",
      "Epoch [   27/   30] | d_loss: 0.5150 | g_loss: 3.3265\n",
      "Epoch [   27/   30] | d_loss: 0.4599 | g_loss: 3.1218\n",
      "Epoch [   28/   30] | d_loss: 0.3754 | g_loss: 4.7225\n",
      "Epoch [   28/   30] | d_loss: 0.4722 | g_loss: 4.3243\n",
      "Epoch [   28/   30] | d_loss: 0.6205 | g_loss: 1.6954\n",
      "Epoch [   28/   30] | d_loss: 0.6180 | g_loss: 3.5192\n",
      "Epoch [   28/   30] | d_loss: 0.4725 | g_loss: 3.7239\n",
      "Epoch [   28/   30] | d_loss: 0.4253 | g_loss: 3.8334\n",
      "Epoch [   28/   30] | d_loss: 0.4951 | g_loss: 2.2488\n",
      "Epoch [   28/   30] | d_loss: 0.5823 | g_loss: 2.2126\n",
      "Epoch [   28/   30] | d_loss: 0.4271 | g_loss: 4.6030\n",
      "Epoch [   28/   30] | d_loss: 0.4598 | g_loss: 3.6430\n",
      "Epoch [   29/   30] | d_loss: 0.4523 | g_loss: 4.0040\n",
      "Epoch [   29/   30] | d_loss: 0.4725 | g_loss: 4.1555\n",
      "Epoch [   29/   30] | d_loss: 0.4103 | g_loss: 3.5104\n",
      "Epoch [   29/   30] | d_loss: 0.5171 | g_loss: 2.4310\n",
      "Epoch [   29/   30] | d_loss: 0.4879 | g_loss: 2.9555\n",
      "Epoch [   29/   30] | d_loss: 0.3980 | g_loss: 2.4411\n",
      "Epoch [   29/   30] | d_loss: 0.3977 | g_loss: 2.6632\n",
      "Epoch [   29/   30] | d_loss: 0.3996 | g_loss: 5.0005\n",
      "Epoch [   29/   30] | d_loss: 0.5460 | g_loss: 3.7699\n",
      "Epoch [   29/   30] | d_loss: 0.4135 | g_loss: 3.9154\n",
      "Epoch [   30/   30] | d_loss: 1.0228 | g_loss: 4.5050\n",
      "Epoch [   30/   30] | d_loss: 0.6152 | g_loss: 3.2833\n",
      "Epoch [   30/   30] | d_loss: 1.1208 | g_loss: 4.1334\n",
      "Epoch [   30/   30] | d_loss: 0.5449 | g_loss: 3.3160\n",
      "Epoch [   30/   30] | d_loss: 0.4414 | g_loss: 2.8182\n",
      "Epoch [   30/   30] | d_loss: 0.5900 | g_loss: 2.5791\n",
      "Epoch [   30/   30] | d_loss: 2.0506 | g_loss: 4.5250\n",
      "Epoch [   30/   30] | d_loss: 0.3924 | g_loss: 3.4073\n",
      "Epoch [   30/   30] | d_loss: 0.4672 | g_loss: 2.4508\n",
      "Epoch [   30/   30] | d_loss: 0.4478 | g_loss: 3.2628\n"
     ]
    }
   ],
   "source": [
    "# set number of epochs \n",
    "n_epochs = 30\n",
    "\n",
    "\n",
    "\"\"\"\n",
    "DON'T MODIFY ANYTHING IN THIS CELL\n",
    "\"\"\"\n",
    "# call training function\n",
    "losses = train(D, G, n_epochs=n_epochs)"
   ]
  },
  {
   "cell_type": "markdown",
   "metadata": {
    "collapsed": true
   },
   "source": [
    "## Training loss\n",
    "\n",
    "Plot the training losses for the generator and discriminator, recorded after each epoch."
   ]
  },
  {
   "cell_type": "code",
   "execution_count": 27,
   "metadata": {},
   "outputs": [
    {
     "data": {
      "text/plain": [
       "<matplotlib.legend.Legend at 0x7fe7209534e0>"
      ]
     },
     "execution_count": 27,
     "metadata": {},
     "output_type": "execute_result"
    },
    {
     "data": {
      "image/png": "[encoded data removed]",
      "text/plain": [
       "<matplotlib.figure.Figure at 0x7fe7258d6828>"
      ]
     },
     "metadata": {
      "needs_background": "light"
     },
     "output_type": "display_data"
    }
   ],
   "source": [
    "fig, ax = plt.subplots()\n",
    "losses = np.array(losses)\n",
    "plt.plot(losses.T[0], label='Discriminator', alpha=0.5)\n",
    "plt.plot(losses.T[1], label='Generator', alpha=0.5)\n",
    "plt.title(\"Training Losses\")\n",
    "plt.legend()"
   ]
  },
  {
   "cell_type": "markdown",
   "metadata": {
    "collapsed": true
   },
   "source": [
    "## Generator samples from training\n",
    "\n",
    "View samples of images from the generator, and answer a question about the strengths and weaknesses of your trained models."
   ]
  },
  {
   "cell_type": "code",
   "execution_count": 28,
   "metadata": {},
   "outputs": [],
   "source": [
    "# helper function for viewing a list of passed in sample images\n",
    "def view_samples(epoch, samples):\n",
    "    fig, axes = plt.subplots(figsize=(16,4), nrows=2, ncols=8, sharey=True, sharex=True)\n",
    "    for ax, img in zip(axes.flatten(), samples[epoch]):\n",
    "        img = img.detach().cpu().numpy()\n",
    "        img = np.transpose(img, (1, 2, 0))\n",
    "        img = ((img + 1)*255 / (2)).astype(np.uint8)\n",
    "        ax.xaxis.set_visible(False)\n",
    "        ax.yaxis.set_visible(False)\n",
    "        im = ax.imshow(img.reshape((32,32,3)))"
   ]
  },
  {
   "cell_type": "code",
   "execution_count": 29,
   "metadata": {},
   "outputs": [],
   "source": [
    "# Load samples from generator, taken while training\n",
    "with open('train_samples.pkl', 'rb') as f:\n",
    "    samples = pkl.load(f)"
   ]
  },
  {
   "cell_type": "code",
   "execution_count": 30,
   "metadata": {},
   "outputs": [
    {
     "data": {
      "image/png": "[encoded data removed]",
      "text/plain": [
       "<matplotlib.figure.Figure at 0x7fe72375e278>"
      ]
     },
     "metadata": {
      "needs_background": "light"
     },
     "output_type": "display_data"
    }
   ],
   "source": [
    "_ = view_samples(-1, samples)"
   ]
  },
  {
   "cell_type": "markdown",
   "metadata": {},
   "source": [
    "### Question: What do you notice about your generated samples and how might you improve this model?\n",
    "When you answer this question, consider the following factors:\n",
    "* The dataset is biased; it is made of \"celebrity\" faces that are mostly white\n",
    "* Model size; larger models have the opportunity to learn more features in a data feature space\n",
    "* Optimization strategy; optimizers and number of epochs affect your final result\n"
   ]
  },
  {
   "cell_type": "markdown",
   "metadata": {},
   "source": [
    "**Answer:**\n",
    "\n",
    "As pointed out in the question itself, the first attention point is regarding the model sampling bias. The sample considered is composed mostly by white people. Another similar bias is regarding hair color, for example, which is most frequently dark. This bias is directly reflected in the generated images. Therefore, for most of the latent vectors (z) provided to G, the produced image will likely be of a white pearson with darker hair. This is very interesting in the sense that the model ability to create new faces is directly related to how rich is the input sample itself. A more informative dataset would result in more inovative outcomes.\n",
    "\n",
    "Regarding the strategy adopted to train the model, I've chosen to use 4 conv/deconv layers, with the depth starting at 64. Therefore, the depth range covered by the network is from 64 to 512, not considering the RGB depth of 3. This is already a deep network and it was able to actually produce good results. However, deeper networks could be adopted and, in fact, residual networks could also be used to support this process. Moreover, I've adopted a stride of 2 and a padding of 1 in all layers, which reduced the image size from 32x32 to 4x4 in the discriminator (and the other way around in the generator). An interesting improvement here would be to try different kernel sizes and work around with the padding and stride values. Maybe smaller kernels could have better detected details, which seems important when trying to produce completely new images.\n",
    "\n",
    "Finally, the optimizer parameters were chosen based on [the DCGAN paper](https://arxiv.org/pdf/1511.06434.pdf) provided during class. However, maybe different parameters would better suit this particular application. One way to see that this is true is looking at the losses plot. Clearly, improving the number of epochs would not help the model to improve that much. Therefore, more impactful improvements would probably be achieved playing with the network structure itself and with the beta and learning rate parameters. \n",
    "\n",
    "Notice that the Generator loss started to increase as the number of epochs sufficiently increased. That suggests that a smaller number o epochs (early stopping) would do better in this case, although the Discriminator loss decreased."
   ]
  },
  {
   "cell_type": "markdown",
   "metadata": {},
   "source": [
    "### Submitting This Project\n",
    "When submitting this project, make sure to run all the cells before saving the notebook. Save the notebook file as \"dlnd_face_generation.ipynb\" and save it as a HTML file under \"File\" -> \"Download as\". Include the \"problem_unittests.py\" files in your submission."
   ]
  }
 ],
 "metadata": {
  "kernelspec": {
   "display_name": "Python 3",
   "language": "python",
   "name": "python3"
  },
  "language_info": {
   "codemirror_mode": {
    "name": "ipython",
    "version": 3
   },
   "file_extension": ".py",
   "mimetype": "text/x-python",
   "name": "python",
   "nbconvert_exporter": "python",
   "pygments_lexer": "ipython3",
   "version": "3.7.4"
  }
 },
 "nbformat": 4,
 "nbformat_minor": 1
}
